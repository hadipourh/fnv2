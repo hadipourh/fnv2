{
 "cells": [
  {
   "cell_type": "markdown",
   "metadata": {},
   "source": [
    "# Finding Collision for FNV2"
   ]
  },
  {
   "cell_type": "code",
   "execution_count": 86,
   "metadata": {},
   "outputs": [],
   "source": [
    "import re"
   ]
  },
  {
   "cell_type": "code",
   "execution_count": 87,
   "metadata": {},
   "outputs": [],
   "source": [
    "FNV_prime_32 =  2^24 + 2^8 + 0x93\n",
    "FNV_prime_64 = 2^40 + 2^8 + 0xb3\n",
    "FNV_prime_128 = 2^88 + 2^8 + 0x3b\n",
    "\n",
    "offset_basis_32 = 2166136261\n",
    "offset_basis_64 = 14695981039346656037\n",
    "offset_basis_128 = 144066263297769815596495629667062367629"
   ]
  },
  {
   "cell_type": "code",
   "execution_count": 88,
   "metadata": {},
   "outputs": [],
   "source": [
    "def fnv1a(hex_input, size, flag = 0):\n",
    "    #Constants\n",
    "    if size == 32:\n",
    "        FNV_prime = FNV_prime_32\n",
    "        offset_basis = offset_basis_32\n",
    "        module = 2**32\n",
    "    elif size == 64:\n",
    "        FNV_prime = FNV_prime_64\n",
    "        offset_basis = offset_basis_64\n",
    "        module = 2**64\n",
    "    elif size == 128:\n",
    "        FNV_prime = FNV_prime_128\n",
    "        offset_basis = offset_basis_128    \n",
    "        module = 2**128    \n",
    "    hash = offset_basis\n",
    "    hex_input = hex_input.replace(\" \", \"\")\n",
    "    hex_input = re.findall('..', hex_input)\n",
    "    for byte_of_data in hex_input:                \n",
    "        if flag == 1:\n",
    "            hash = mod(hash + int(byte_of_data, base=16), 2**128)\n",
    "        else:\n",
    "            hash = hash ^^ int(byte_of_data, base=16)\n",
    "        hash = (hash * FNV_prime) % module\n",
    "    return hash"
   ]
  },
  {
   "cell_type": "code",
   "execution_count": 89,
   "metadata": {},
   "outputs": [
    {
     "data": {
      "text/plain": [
       "314800192907571496543841540975179960854"
      ]
     },
     "execution_count": 89,
     "metadata": {},
     "output_type": "execute_result"
    }
   ],
   "source": [
    "fnv1a(\"8c2565b0f35411600c3c0e20e21235\", 128)"
   ]
  },
  {
   "cell_type": "code",
   "execution_count": 90,
   "metadata": {},
   "outputs": [],
   "source": [
    "def convert2hex(l):\n",
    "    temp = list(map(lambda x: hex(x)[2:], l))\n",
    "    output = temp\n",
    "    for i in range(len(l)):\n",
    "        if len(temp[i]) < 2:\n",
    "            output[i] = temp[i].zfill(2)\n",
    "    output = \"\".join(output)\n",
    "    return output"
   ]
  },
  {
   "cell_type": "markdown",
   "metadata": {},
   "source": [
    "# Using LLL to Find Collision"
   ]
  },
  {
   "cell_type": "code",
   "execution_count": 91,
   "metadata": {},
   "outputs": [],
   "source": [
    "n = 31\n",
    "t = 200\n",
    "g = FNV_prime_128\n",
    "E = []\n",
    "temp = [0 for _ in range(n)] + [t * 2**128]\n",
    "E.append(temp)\n",
    "f = lambda i, j: (i == j)*1\n",
    "for i in range(n):\n",
    "    temp = [f(i, j) for j in range(n)] + [mod(g**(n - i), 2**128)]    \n",
    "    E.append(temp)\n",
    "A = matrix(ZZ, n + 1, n + 1, E)\n",
    "B = A.LLL()\n",
    "B1 = []\n",
    "for i in range(B.nrows()):\n",
    "    if B[i, -1] == 0:\n",
    "        B1.append(B.row(i))"
   ]
  },
  {
   "cell_type": "code",
   "execution_count": 92,
   "metadata": {},
   "outputs": [
    {
     "name": "stdout",
     "output_type": "stream",
     "text": [
      "X = 11140a12140b110b0b0e0d02060f0904170b140600161609080f0b090d0d0d\n",
      "Y = 0d0d0d0d0d0d0d0d0d0d0d0d0d0d0d0d0d0d0d0d0d0d0d0d0d0d0d0d0d0d0d\n",
      "fnv1a(X) = 245130900151624955695674862832482876426\n",
      "fnv1a(Y) = 245130900151624955695674862832482876426\n",
      "X = 1808111616000c0807070a06030b06110a1514040d11140e0b04030c0d0710\n",
      "Y = 0d0d0d0d0d0d0d0d0d0d0d0d0d0d0d0d0d0d0d0d0d0d0d0d0d0d0d0d0d0d0d\n",
      "fnv1a(X) = 245130900151624955695674862832482876426\n",
      "fnv1a(Y) = 245130900151624955695674862832482876426\n",
      "X = 0a16030c000f090d0307131c150e100d0908110c130c130c050d070b0d0e13\n",
      "Y = 0b0b0b0b0b0b0b0b0b0b0b0b0b0b0b0b0b0b0b0b0b0b0b0b0b0b0b0b0b0b0b\n",
      "fnv1a(X) = 90194142264012191722037330296100703884\n",
      "fnv1a(Y) = 90194142264012191722037330296100703884\n"
     ]
    }
   ],
   "source": [
    "for selected_row in range(len(B1)):\n",
    "    selected_coeffs = list(B1[selected_row])    \n",
    "    tr = -1 * min(selected_coeffs)    \n",
    "    X = [tr + selected_coeffs[i] for i in range(n)]    \n",
    "    Y = [tr for _ in range(n)] \n",
    "    X = convert2hex(X)\n",
    "    Y = convert2hex(Y)\n",
    "    if fnv1a(X, 128, 1) == fnv1a(Y, 128, 1):\n",
    "        print(\"%s = %s\" % (\"X\", X))\n",
    "        print(\"%s = %s\" % (\"Y\", Y))\n",
    "        print(\"%s = %s\" % (\"fnv1a(X)\", (fnv1a(X, 128, 1))))\n",
    "        print(\"%s = %s\" % (\"fnv1a(Y)\", (fnv1a(Y, 128, 1))))"
   ]
  },
  {
   "cell_type": "markdown",
   "metadata": {},
   "source": [
    "# The End"
   ]
  },
  {
   "cell_type": "code",
   "execution_count": null,
   "metadata": {},
   "outputs": [],
   "source": []
  }
 ],
 "metadata": {
  "kernelspec": {
   "display_name": "SageMath 9.0",
   "language": "sage",
   "name": "sagemath"
  },
  "language_info": {
   "codemirror_mode": {
    "name": "ipython",
    "version": 3
   },
   "file_extension": ".py",
   "mimetype": "text/x-python",
   "name": "python",
   "nbconvert_exporter": "python",
   "pygments_lexer": "ipython3",
   "version": "3.7.3"
  }
 },
 "nbformat": 4,
 "nbformat_minor": 2
}
